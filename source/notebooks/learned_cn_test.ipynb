{
 "cells": [
  {
   "cell_type": "code",
   "execution_count": 187,
   "metadata": {},
   "outputs": [
    {
     "name": "stdout",
     "output_type": "stream",
     "text": [
      "The autoreload extension is already loaded. To reload it, use:\n",
      "  %reload_ext autoreload\n"
     ]
    }
   ],
   "source": [
    "%load_ext autoreload\n",
    "%autoreload 2\n",
    "\n",
    "import sys, os\n",
    "sys.path.append(os.path.abspath(os.path.join('..')))\n",
    "\n",
    "import torch\n",
    "import numpy as np\n",
    "\n",
    "from method.learned_cn_method import CNModule, VecCNModule\n",
    "from data import load_network\n",
    "from util import Params"
   ]
  },
  {
   "cell_type": "markdown",
   "metadata": {},
   "source": [
    "**Load Toy VecCNModule**"
   ]
  },
  {
   "cell_type": "code",
   "execution_count": 188,
   "metadata": {},
   "outputs": [],
   "source": [
    "params = Params(\"../../experiments/disgenet/bio-pathways/dpp-10/learned_cn/cn_weighting/vec_lr_1e-0_ones/params.json\")"
   ]
  },
  {
   "cell_type": "code",
   "execution_count": 189,
   "metadata": {},
   "outputs": [],
   "source": [
    "params.d = 8"
   ]
  },
  {
   "cell_type": "code",
   "execution_count": 355,
   "metadata": {},
   "outputs": [],
   "source": [
    "vec_cn_deep = VecCNModule(params, A)"
   ]
  },
  {
   "cell_type": "markdown",
   "metadata": {},
   "source": [
    "**Manual Walk-Through**"
   ]
  },
  {
   "cell_type": "code",
   "execution_count": 268,
   "metadata": {},
   "outputs": [],
   "source": [
    "A = torch.tensor([[0., 1., 0.],\n",
    "                  [1., 0., 1.],\n",
    "                  [0., 1., 0.]])"
   ]
  },
  {
   "cell_type": "code",
   "execution_count": 269,
   "metadata": {},
   "outputs": [],
   "source": [
    "D = torch.sum(A, dim=1, keepdim=True)"
   ]
  },
  {
   "cell_type": "code",
   "execution_count": 270,
   "metadata": {},
   "outputs": [],
   "source": [
    "D = torch.pow(D, -0.5)"
   ]
  },
  {
   "cell_type": "code",
   "execution_count": 271,
   "metadata": {},
   "outputs": [],
   "source": [
    "A_left = D.view(1, -1) * A * D.view(-1, 1)"
   ]
  },
  {
   "cell_type": "code",
   "execution_count": 272,
   "metadata": {},
   "outputs": [],
   "source": [
    "A_right = D.view(1, -1) * A"
   ]
  },
  {
   "cell_type": "code",
   "execution_count": 273,
   "metadata": {},
   "outputs": [],
   "source": [
    "X = torch.tensor([[1., 0., 1.],\n",
    "                  [1., 1., 0.]])"
   ]
  },
  {
   "cell_type": "code",
   "execution_count": 274,
   "metadata": {},
   "outputs": [],
   "source": [
    "E = torch.tensor([1., 2., 3.]).view(1, 3)\n"
   ]
  },
  {
   "cell_type": "code",
   "execution_count": 279,
   "metadata": {},
   "outputs": [
    {
     "data": {
      "text/plain": [
       "tensor([[[0.5000, 0.0000, 1.5000],\n",
       "         [0.0000, 2.0000, 0.0000],\n",
       "         [0.5000, 1.4142, 0.0000]]])"
      ]
     },
     "execution_count": 279,
     "metadata": {},
     "output_type": "execute_result"
    }
   ],
   "source": [
    "AE = A_left*E\n",
    "AE"
   ]
  },
  {
   "cell_type": "code",
   "execution_count": 276,
   "metadata": {},
   "outputs": [],
   "source": [
    "AEA = torch.matmul(AE, A_right)"
   ]
  },
  {
   "cell_type": "code",
   "execution_count": 277,
   "metadata": {},
   "outputs": [
    {
     "data": {
      "text/plain": [
       "tensor([[2.8284, 0.0000, 2.8284],\n",
       "        [1.4142, 2.0000, 1.4142]])"
      ]
     },
     "execution_count": 277,
     "metadata": {},
     "output_type": "execute_result"
    }
   ],
   "source": [
    "XAEA = torch.matmul(X, AEA)\n",
    "XAEA"
   ]
  },
  {
   "cell_type": "markdown",
   "metadata": {},
   "source": [
    "**Compute According to Exact Code from Class**"
   ]
  },
  {
   "cell_type": "code",
   "execution_count": 278,
   "metadata": {},
   "outputs": [
    {
     "data": {
      "text/plain": [
       "tensor([[1.7678, 2.9142, 0.7071],\n",
       "        [1.4142, 3.5000, 0.3536]])"
      ]
     },
     "execution_count": 278,
     "metadata": {},
     "output_type": "execute_result"
    }
   ],
   "source": [
    "A = torch.tensor([[1., 0., 1.],\n",
    "                  [0., 1., 0.],\n",
    "                  [1., 1., 0.]]).numpy()\n",
    "D = np.sum(A, axis=1, keepdims=True)\n",
    "\n",
    "D = np.sum(A, axis=1, dtype=np.float)\n",
    "D = np.power(D, -0.5)\n",
    "D = torch.tensor(D, dtype=torch.float)\n",
    "\n",
    "A = torch.tensor(A, dtype=torch.float)\n",
    "A_left = torch.mul(torch.mul(D.view(1, -1), A), D.view(-1, 1))\n",
    "A_right = torch.mul(D.view(1, -1), A)\n",
    "\n",
    "E = torch.tensor([1., 2., 3.]).view(1, 1, 3)\n",
    "X = torch.tensor([[1., 0., 1.],\n",
    "                  [1., 1., 0.]])\n",
    "\n",
    "X = torch.matmul(X, A_left)\n",
    "X = torch.mul(X, E).squeeze()\n",
    "X = torch.matmul(X, A_right)\n",
    "X"
   ]
  },
  {
   "cell_type": "markdown",
   "metadata": {},
   "source": [
    "**Full Tests**"
   ]
  },
  {
   "cell_type": "code",
   "execution_count": 186,
   "metadata": {},
   "outputs": [],
   "source": [
    "params = Params(\"../../experiments/disgenet/bio-pathways/dpp-10/learned_cn/cn_weighting/lr_1e-0_ones/params.json\")\n",
    "_, adj, _ = load_network(\"../../\" + params.ppi_network)"
   ]
  },
  {
   "cell_type": "code",
   "execution_count": null,
   "metadata": {},
   "outputs": [],
   "source": []
  }
 ],
 "metadata": {
  "kernelspec": {
   "display_name": "env",
   "language": "python",
   "name": "env"
  },
  "language_info": {
   "codemirror_mode": {
    "name": "ipython",
    "version": 2
   },
   "file_extension": ".py",
   "mimetype": "text/x-python",
   "name": "python",
   "nbconvert_exporter": "python",
   "pygments_lexer": "ipython2",
   "version": "2.7.12"
  }
 },
 "nbformat": 4,
 "nbformat_minor": 2
}
