{
 "cells": [
  {
   "cell_type": "code",
   "execution_count": 44,
   "metadata": {},
   "outputs": [],
   "source": [
    "import goatools\n",
    "from goatools.associations import read_ncbi_gene2go\n",
    "from goatools.base import download_ncbi_associations\n",
    "from goatools.base import download_go_basic_obo\n",
    "from goatools.obo_parser import GODag\n"
   ]
  },
  {
   "cell_type": "code",
   "execution_count": 10,
   "metadata": {},
   "outputs": [
    {
     "name": "stderr",
     "output_type": "stream",
     "text": [
      "  wget.download(ftp://ftp.ncbi.nlm.nih.gov/gene/DATA/gene2go.gz out=../../data/go/gene2go.gz)\n"
     ]
    },
    {
     "name": "stdout",
     "output_type": "stream",
     "text": [
      "  gunzip ../../data/go/gene2go.gz\n"
     ]
    }
   ],
   "source": [
    "gene2go = download_ncbi_associations(\"../../data/go/gene2go\")"
   ]
  },
  {
   "cell_type": "code",
   "execution_count": 32,
   "metadata": {},
   "outputs": [
    {
     "name": "stderr",
     "output_type": "stream",
     "text": [
      "  wget.download(http://purl.obolibrary.org/obo/go/go-basic.obo out=../../data/go/go-basic.obo)\n"
     ]
    }
   ],
   "source": [
    "obo_fname = download_go_basic_obo(\"../../data/go/go-basic.obo\")"
   ]
  },
  {
   "cell_type": "code",
   "execution_count": 33,
   "metadata": {},
   "outputs": [
    {
     "name": "stdout",
     "output_type": "stream",
     "text": [
      "  20,376 items READ: ../../data/go/gene2go\n",
      "20376 GO terms associated with human NCBI Entrez GeneIDs\n"
     ]
    }
   ],
   "source": [
    "go2geneids_human = read_ncbi_gene2go(\"../../data/go/gene2go\", go2geneids=False)\n",
    "print(\"{N} GO terms associated with human NCBI Entrez GeneIDs\".format(N=len(go2geneids_human)))"
   ]
  },
  {
   "cell_type": "code",
   "execution_count": null,
   "metadata": {},
   "outputs": [],
   "source": [
    "gene2go"
   ]
  },
  {
   "cell_type": "code",
   "execution_count": 38,
   "metadata": {},
   "outputs": [
    {
     "name": "stdout",
     "output_type": "stream",
     "text": [
      "../../data/go/go-basic.obo: fmt(1.2) rel(2018-12-10) 47,372 GO Terms\n"
     ]
    }
   ],
   "source": [
    "obo = GODag(\"../../data/go/go-basic.obo\")"
   ]
  },
  {
   "cell_type": "code",
   "execution_count": 76,
   "metadata": {},
   "outputs": [],
   "source": [
    "def get_annotations(genes, level=1):\n",
    "    genes_to_annotations = {gene: set() for gene in genes}\n",
    "    for gene in genes:\n",
    "        doids = go2geneids_human[gene]\n",
    "        for doid in doids:\n",
    "            for parent in obo[doid].get_all_parents():\n",
    "                if obo[parent].level == level:\n",
    "                    genes_to_annotations[gene].add(obo[parent].name)\n",
    "            break\n",
    "    return genes_to_annotations"
   ]
  },
  {
   "cell_type": "code",
   "execution_count": 77,
   "metadata": {},
   "outputs": [
    {
     "data": {
      "text/plain": [
       "{351: {'regulation of biological process'},\n",
       " 1017: {'ion binding'},\n",
       " 1956: {'regulation of biological process',\n",
       "  'regulation of biological quality',\n",
       "  'system process'},\n",
       " 1994: {'regulation of biological process',\n",
       "  'regulation of biological quality'},\n",
       " 2885: {'guanyl-nucleotide exchange factor activity', 'protein binding'},\n",
       " 3320: {'cell growth', 'developmental growth'},\n",
       " 4914: {'regulation of biological process',\n",
       "  'regulation of molecular function'},\n",
       " 6667: {'protein binding'},\n",
       " 7157: {'macromolecule localization'},\n",
       " 7316: {'regulation of biological process',\n",
       "  'regulation of molecular function'}}"
      ]
     },
     "execution_count": 77,
     "metadata": {},
     "output_type": "execute_result"
    }
   ],
   "source": [
    "get_annotations([4914, 2885, 351, 1994, 3320, 7316, 7157, 1956, 6667, 1017], level=2)"
   ]
  },
  {
   "cell_type": "code",
   "execution_count": 78,
   "metadata": {},
   "outputs": [
    {
     "data": {
      "text/plain": [
       "{673: {'regulation of biological process', 'regulation of molecular function'},\n",
       " 1280: set(),\n",
       " 2006: {'anatomical structure morphogenesis'},\n",
       " 2260: {'guanyl-nucleotide exchange factor activity', 'protein binding'},\n",
       " 2261: {'guanyl-nucleotide exchange factor activity', 'protein binding'},\n",
       " 2263: {'regulation of biological process'},\n",
       " 2316: {'protein binding'},\n",
       " 3845: {'response to chemical', 'response to endogenous stimulus'},\n",
       " 4000: {'cellular localization', 'macromolecule localization'},\n",
       " 5728: {'regulation of biological process'}}"
      ]
     },
     "execution_count": 78,
     "metadata": {},
     "output_type": "execute_result"
    }
   ],
   "source": [
    "get_annotations([4000, 2263, 673, 3845, 2316, 2261, 2260, 5728, 2006, 1280], level=2)"
   ]
  },
  {
   "cell_type": "code",
   "execution_count": null,
   "metadata": {},
   "outputs": [],
   "source": []
  }
 ],
 "metadata": {
  "kernelspec": {
   "display_name": "Python 2",
   "language": "python",
   "name": "python2"
  },
  "language_info": {
   "codemirror_mode": {
    "name": "ipython",
    "version": 2
   },
   "file_extension": ".py",
   "mimetype": "text/x-python",
   "name": "python",
   "nbconvert_exporter": "python",
   "pygments_lexer": "ipython2",
   "version": "2.7.10"
  }
 },
 "nbformat": 4,
 "nbformat_minor": 2
}
