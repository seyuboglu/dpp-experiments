{
 "cells": [
  {
   "cell_type": "code",
   "execution_count": 31,
   "metadata": {},
   "outputs": [],
   "source": [
    "import goatools\n",
    "from goatools.associations import read_ncbi_gene2go\n",
    "from goatools.base import download_ncbi_associations\n",
    "from goatools.base import download_go_basic_obo\n",
    "from goatools.obo_parser import GODag\n"
   ]
  },
  {
   "cell_type": "code",
   "execution_count": 10,
   "metadata": {},
   "outputs": [
    {
     "name": "stderr",
     "output_type": "stream",
     "text": [
      "  wget.download(ftp://ftp.ncbi.nlm.nih.gov/gene/DATA/gene2go.gz out=../../data/go/gene2go.gz)\n"
     ]
    },
    {
     "name": "stdout",
     "output_type": "stream",
     "text": [
      "  gunzip ../../data/go/gene2go.gz\n"
     ]
    }
   ],
   "source": [
    "gene2go = download_ncbi_associations(\"../../data/go/gene2go\")"
   ]
  },
  {
   "cell_type": "code",
   "execution_count": 32,
   "metadata": {},
   "outputs": [
    {
     "name": "stderr",
     "output_type": "stream",
     "text": [
      "  wget.download(http://purl.obolibrary.org/obo/go/go-basic.obo out=../../data/go/go-basic.obo)\n"
     ]
    }
   ],
   "source": [
    "obo_fname = download_go_basic_obo(\"../../data/go/go-basic.obo\")"
   ]
  },
  {
   "cell_type": "code",
   "execution_count": 33,
   "metadata": {},
   "outputs": [
    {
     "name": "stdout",
     "output_type": "stream",
     "text": [
      "  20,376 items READ: ../../data/go/gene2go\n",
      "20376 GO terms associated with human NCBI Entrez GeneIDs\n"
     ]
    }
   ],
   "source": [
    "go2geneids_human = read_ncbi_gene2go(\"../../data/go/gene2go\", go2geneids=False)\n",
    "print(\"{N} GO terms associated with human NCBI Entrez GeneIDs\".format(N=len(go2geneids_human)))"
   ]
  },
  {
   "cell_type": "code",
   "execution_count": 34,
   "metadata": {},
   "outputs": [
    {
     "data": {
      "text/plain": [
       "{'GO:0005198',\n",
       " 'GO:0005515',\n",
       " 'GO:0005634',\n",
       " 'GO:0005635',\n",
       " 'GO:0005638',\n",
       " 'GO:0005654',\n",
       " 'GO:0005829',\n",
       " 'GO:0006606',\n",
       " 'GO:0007084',\n",
       " 'GO:0008285',\n",
       " 'GO:0010628',\n",
       " 'GO:0016607',\n",
       " 'GO:0030334',\n",
       " 'GO:0030951',\n",
       " 'GO:0031647',\n",
       " 'GO:0031965',\n",
       " 'GO:0034504',\n",
       " 'GO:0036498',\n",
       " 'GO:0055015',\n",
       " 'GO:0071456',\n",
       " 'GO:0072201',\n",
       " 'GO:0090201',\n",
       " 'GO:0090343',\n",
       " 'GO:1900114',\n",
       " 'GO:1900180',\n",
       " 'GO:1903243',\n",
       " 'GO:2001237'}"
      ]
     },
     "execution_count": 34,
     "metadata": {},
     "output_type": "execute_result"
    }
   ],
   "source": [
    "go2geneids_human[4000]"
   ]
  },
  {
   "cell_type": "code",
   "execution_count": null,
   "metadata": {},
   "outputs": [],
   "source": []
  }
 ],
 "metadata": {
  "kernelspec": {
   "display_name": "Python 2",
   "language": "python",
   "name": "python2"
  },
  "language_info": {
   "codemirror_mode": {
    "name": "ipython",
    "version": 2
   },
   "file_extension": ".py",
   "mimetype": "text/x-python",
   "name": "python",
   "nbconvert_exporter": "python",
   "pygments_lexer": "ipython2",
   "version": "2.7.10"
  }
 },
 "nbformat": 4,
 "nbformat_minor": 2
}
