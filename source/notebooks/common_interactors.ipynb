{
 "cells": [
  {
   "cell_type": "code",
   "execution_count": 9,
   "metadata": {},
   "outputs": [
    {
     "name": "stdout",
     "output_type": "stream",
     "text": [
      "The autoreload extension is already loaded. To reload it, use:\n",
      "  %reload_ext autoreload\n"
     ]
    }
   ],
   "source": [
    "%load_ext autoreload\n",
    "%autoreload 2\n",
    "\n",
    "import sys, os\n",
    "sys.path.append(os.path.abspath(os.path.join('..')))\n",
    "\n",
    "import numpy as np\n",
    "import seaborn as sns\n",
    "import matplotlib.pyplot as plt \n",
    "import torch\n",
    "import numpy as np\n",
    "import networkx as nx\n",
    "from tqdm import tqdm_notebook as tqdm\n",
    "from pysal.inequality.gini import Gini\n",
    "\n",
    "from method.learned_cn_method import CNModule, LCIModule\n",
    "from data import load_network\n",
    "from util import Params, prepare_sns\n",
    "from data import load_diseases, load_network\n",
    "from go import GOParser\n",
    "from scipy.misc import comb\n",
    "import pickle\n",
    "\n",
    "prepare_sns(sns, {})"
   ]
  },
  {
   "cell_type": "code",
   "execution_count": 13,
   "metadata": {},
   "outputs": [
    {
     "name": "stdout",
     "output_type": "stream",
     "text": [
      "Loaded 2297 diseases.\n"
     ]
    }
   ],
   "source": [
    "diseases_dict = load_diseases(\"../../data/associations/disgenet-associations.csv\")\n",
    "m = len(diseases_dict)\n",
    "print(\"Loaded {} diseases.\".format(m))"
   ]
  },
  {
   "cell_type": "code",
   "execution_count": 11,
   "metadata": {},
   "outputs": [],
   "source": [
    "ppi_networkx, ppi_network_adj, protein_to_node = load_network(\"../../data/networks/bio-pathways-network.txt\")\n",
    "n = ppi_network_adj.shape[0]\n",
    "node_to_protein = {node: protein for protein, node in protein_to_node.items()}"
   ]
  },
  {
   "cell_type": "code",
   "execution_count": 12,
   "metadata": {},
   "outputs": [
    {
     "data": {
      "text/plain": [
       "21557"
      ]
     },
     "execution_count": 12,
     "metadata": {},
     "output_type": "execute_result"
    }
   ],
   "source": [
    "n"
   ]
  },
  {
   "cell_type": "code",
   "execution_count": 8,
   "metadata": {},
   "outputs": [],
   "source": [
    "m = len(diseases_dict.values())\n",
    "diseases = np.zeros((m, n), dtype=int)\n",
    "index_to_disease = []\n",
    "for i, disease in enumerate(diseases_dict.values()):\n",
    "    disease_nodes = disease.to_node_array(protein_to_node)\n",
    "    diseases[i, disease_nodes] = 1\n",
    "    index_to_disease.append(disease)"
   ]
  },
  {
   "cell_type": "markdown",
   "metadata": {},
   "source": [
    "## Common Interactions\n",
    "\n",
    "Question: What fraction of common interactions go through node i?\n",
    "Question: What fraction of diseases "
   ]
  },
  {
   "cell_type": "code",
   "execution_count": 251,
   "metadata": {},
   "outputs": [],
   "source": [
    "def compute_common_interactors(diseases_dict, adj, null=False): \n",
    "    ci_pairs = [set() for i in range(n)]\n",
    "    ci_diseases = [set() for i in range(n)]\n",
    "    for disease in tqdm(diseases_dict.values()):\n",
    "        proteins = disease.to_node_array(protein_to_node)\n",
    "        if null:\n",
    "            proteins = np.random.choice(adj.shape[0], len(proteins), replace=False)\n",
    "\n",
    "        for a, protein_a in enumerate(proteins):\n",
    "            for b, protein_b in enumerate(proteins):\n",
    "                if a < b:\n",
    "                    break \n",
    "                neighbors_a = adj[protein_a, :]\n",
    "                neighbors_b = adj[protein_b, :]\n",
    "                cis = np.where(np.multiply(neighbors_a, neighbors_b) == 1)[0]\n",
    "                for ci in cis:\n",
    "                    ci_pairs[ci].add((protein_a, protein_b))\n",
    "                    ci_diseases[ci].add(disease.id)\n",
    "    return ci_pairs, ci_diseases"
   ]
  },
  {
   "cell_type": "code",
   "execution_count": null,
   "metadata": {},
   "outputs": [],
   "source": []
  },
  {
   "cell_type": "code",
   "execution_count": 61,
   "metadata": {},
   "outputs": [
    {
     "data": {
      "application/vnd.jupyter.widget-view+json": {
       "model_id": "ac958ca10ef84f3fb981dab5e989de3c",
       "version_major": 2,
       "version_minor": 0
      },
      "text/plain": [
       "HBox(children=(IntProgress(value=0, max=2297), HTML(value=u'')))"
      ]
     },
     "metadata": {},
     "output_type": "display_data"
    },
    {
     "name": "stdout",
     "output_type": "stream",
     "text": [
      "\n"
     ]
    }
   ],
   "source": [
    "ci_pairs, ci_diseases = compute_common_interactors(diseases_dict, ppi_network_adj)"
   ]
  },
  {
   "cell_type": "code",
   "execution_count": 111,
   "metadata": {},
   "outputs": [],
   "source": [
    "all_ci_pairs = set.union(*ci_pairs)"
   ]
  },
  {
   "cell_type": "code",
   "execution_count": 198,
   "metadata": {},
   "outputs": [],
   "source": [
    "ci_n_pairs = np.array(map(len, ci_pairs))"
   ]
  },
  {
   "cell_type": "code",
   "execution_count": 117,
   "metadata": {},
   "outputs": [
    {
     "name": "stdout",
     "output_type": "stream",
     "text": [
      "857448 proteins\n"
     ]
    }
   ],
   "source": [
    "# How many pairs of proteins are there that share a common interactor? \n",
    "print(\"{} proteins\").format(len(all_ci_pairs))"
   ]
  },
  {
   "cell_type": "code",
   "execution_count": 121,
   "metadata": {},
   "outputs": [
    {
     "data": {
      "text/plain": [
       "Text(0,0.5,'# of common interactors [log]')"
      ]
     },
     "execution_count": 121,
     "metadata": {},
     "output_type": "execute_result"
    },
    {
     "data": {
      "image/png": "[encoded data removed]",
      "text/plain": [
       "<Figure size 432x288 with 1 Axes>"
      ]
     },
     "metadata": {},
     "output_type": "display_data"
    }
   ],
   "source": [
    "plt.hist(ci_n_pairs, 40, range=(0, 100000), alpha=0.8)\n",
    "plt.yscale('log')\n",
    "plt.xlabel('# of distinct protein pairs')\n",
    "plt.ylabel('# of common interactors [log]')"
   ]
  },
  {
   "cell_type": "code",
   "execution_count": 56,
   "metadata": {},
   "outputs": [
    {
     "data": {
      "text/plain": [
       "0.9337597899800635"
      ]
     },
     "execution_count": 56,
     "metadata": {},
     "output_type": "execute_result"
    }
   ],
   "source": [
    "# What is the GINI coefficient of \n",
    "Gini(n_pairs).g"
   ]
  },
  {
   "cell_type": "code",
   "execution_count": 133,
   "metadata": {},
   "outputs": [
    {
     "name": "stdout",
     "output_type": "stream",
     "text": [
      "233 protein pairs on average\n"
     ]
    }
   ],
   "source": [
    "# How many protein pairs do common interactors have on average? \n",
    "print(\"{} protein pairs on average\".format(np.sum(ci_n_pairs) / np.count_nonzero(ci_n_pairs)))"
   ]
  },
  {
   "cell_type": "code",
   "execution_count": 135,
   "metadata": {},
   "outputs": [
    {
     "data": {
      "text/plain": [
       "[4914, 351, 1994, 2885, 7157, 1956, 7316, 3320, 1017, 8452]"
      ]
     },
     "execution_count": 135,
     "metadata": {},
     "output_type": "execute_result"
    }
   ],
   "source": [
    "# Which proteins are common interactors for the most distinct pairs?\n",
    "node_to_protein = {node: protein for protein, node in protein_to_node.items()}\n",
    "[node_to_protein[node] for node in np.argsort(-1 * ci_n_pairs)][:10]"
   ]
  },
  {
   "cell_type": "markdown",
   "metadata": {},
   "source": [
    "### Associated Diseases\n",
    "For each protein i, we compute a) how many diseases i is directly associated with and b) For how many diseases does there exist a pair of associated proteins that share protein i as a common interactor? "
   ]
  },
  {
   "cell_type": "code",
   "execution_count": 114,
   "metadata": {},
   "outputs": [],
   "source": [
    "# How many diseases is protein i directly associated with\n",
    "protein_n_diseases = np.sum(diseases, axis=0)\n",
    "# For how many diseases does there exist a pair of associated proteins that share\n",
    "# protein i as a common interactor? \n",
    "ci_n_diseases = np.array(map(len, ci_diseases))"
   ]
  },
  {
   "cell_type": "code",
   "execution_count": 124,
   "metadata": {},
   "outputs": [
    {
     "data": {
      "text/plain": [
       "Text(0,0.5,'# of proteins')"
      ]
     },
     "execution_count": 124,
     "metadata": {},
     "output_type": "execute_result"
    },
    {
     "data": {
      "image/png": "[encoded data removed]",
      "text/plain": [
       "<Figure size 432x288 with 1 Axes>"
      ]
     },
     "metadata": {},
     "output_type": "display_data"
    }
   ],
   "source": [
    "plt.hist(ci_n_diseases, 40, range=(0, 2279), alpha=0.8, label=\"common interactors\")\n",
    "plt.hist(protein_n_diseases, 40, range=(0, 2279), alpha=0.8, color='#D3D3D3', label=\"direct associations\")\n",
    "plt.yscale('log')\n",
    "plt.legend()\n",
    "plt.xlabel('# of diseases')\n",
    "plt.ylabel('# of proteins')\n"
   ]
  },
  {
   "cell_type": "code",
   "execution_count": 158,
   "metadata": {},
   "outputs": [],
   "source": [
    "# Which proteins are common interactors for the most diseases? \n",
    "node_to_protein = {node: protein for protein, node in protein_to_node.items()}\n",
    "ci_topten = [node_to_protein[node] for node in np.argsort(-1 * ci_n_diseases)][:10]"
   ]
  },
  {
   "cell_type": "code",
   "execution_count": null,
   "metadata": {},
   "outputs": [],
   "source": []
  },
  {
   "cell_type": "code",
   "execution_count": 131,
   "metadata": {},
   "outputs": [
    {
     "data": {
      "text/plain": [
       "[4000, 2263, 673, 3845, 2316, 2261, 2260, 5728, 2006, 1280]"
      ]
     },
     "execution_count": 131,
     "metadata": {},
     "output_type": "execute_result"
    }
   ],
   "source": [
    "# Which proteins are associated with the most diseases? \n",
    "node_to_protein = {node: protein for protein, node in protein_to_node.items()}\n",
    "[node_to_protein[node] for node in np.argsort(-1 * protein_n_diseases)][:10]"
   ]
  },
  {
   "cell_type": "code",
   "execution_count": 137,
   "metadata": {},
   "outputs": [
    {
     "data": {
      "application/vnd.jupyter.widget-view+json": {
       "model_id": "1bdb1d06b544494c9035b97a0dd2f792",
       "version_major": 2,
       "version_minor": 0
      },
      "text/plain": [
       "HBox(children=(IntProgress(value=0, max=2297), HTML(value=u'')))"
      ]
     },
     "metadata": {},
     "output_type": "display_data"
    },
    {
     "name": "stdout",
     "output_type": "stream",
     "text": [
      "\n"
     ]
    }
   ],
   "source": [
    "# get a null model\n",
    "null_pairs, null_diseases = compute_common_interactors(diseases_dict, ppi_network_adj, null=True)"
   ]
  },
  {
   "cell_type": "code",
   "execution_count": 199,
   "metadata": {},
   "outputs": [],
   "source": [
    "# how does it compare to a null model\n",
    "null_n_pairs = np.array(map(len, null_pairs))\n",
    "null_n_diseases = np.array(map(len, null_diseases))\n",
    "null_topten = [node_to_protein[node] for node in np.argsort(-1 * null_n_diseases)][:10]"
   ]
  },
  {
   "cell_type": "code",
   "execution_count": 148,
   "metadata": {},
   "outputs": [
    {
     "data": {
      "text/plain": [
       "Text(0,0.5,'# of proteins')"
      ]
     },
     "execution_count": 148,
     "metadata": {},
     "output_type": "execute_result"
    },
    {
     "data": {
      "image/png": "[encoded data removed]",
      "text/plain": [
       "<Figure size 432x288 with 1 Axes>"
      ]
     },
     "metadata": {},
     "output_type": "display_data"
    }
   ],
   "source": [
    "plt.hist(ci_n_diseases, 40, range=(0, 2279), alpha=0.8, label=\"common interactors\")\n",
    "plt.hist(null_n_diseases, 40, range=(0, 2279), alpha=0.7, color='#D3D3D3', label=\"null_model\")\n",
    "plt.yscale('log')\n",
    "plt.legend()\n",
    "plt.xlabel('# of diseases')\n",
    "plt.ylabel('# of proteins')"
   ]
  },
  {
   "cell_type": "code",
   "execution_count": 241,
   "metadata": {},
   "outputs": [
    {
     "data": {
      "text/plain": [
       "Text(0,0.5,'# of proteins')"
      ]
     },
     "execution_count": 241,
     "metadata": {},
     "output_type": "execute_result"
    },
    {
     "data": {
      "image/png": "[encoded data removed]",
      "text/plain": [
       "<Figure size 432x288 with 1 Axes>"
      ]
     },
     "metadata": {},
     "output_type": "display_data"
    }
   ],
   "source": [
    "plt.hist(ci_n_pairs, 40, range=(0, 100000), alpha=0.8, label=\"common interactors\")\n",
    "plt.hist(null_n_pairs, 40, range=(0, 100000), alpha=0.7, color='#D3D3D3', label=\"null_model\")\n",
    "plt.yscale('log')\n",
    "plt.legend()\n",
    "plt.xlabel('# of distinct protein pairs')\n",
    "plt.ylabel('# of proteins')"
   ]
  },
  {
   "cell_type": "markdown",
   "metadata": {},
   "source": [
    "## Normalize by Degree\n",
    "Question: How does degree influence the number of diseases?"
   ]
  },
  {
   "cell_type": "code",
   "execution_count": 200,
   "metadata": {},
   "outputs": [],
   "source": [
    "ci_n_pairs = np.array(map(len, ci_pairs))\n",
    "null_n_pairs = np.array(map(len, null_pairs))"
   ]
  },
  {
   "cell_type": "code",
   "execution_count": 215,
   "metadata": {},
   "outputs": [
    {
     "data": {
      "text/plain": [
       "array([   0, 4183, 1579, ...,    0,    0,    1])"
      ]
     },
     "execution_count": 215,
     "metadata": {},
     "output_type": "execute_result"
    }
   ],
   "source": [
    "degree = [ppi_networkx.degree(node) for node in range(n)]\n",
    "np.bincount(degree)\n"
   ]
  },
  {
   "cell_type": "code",
   "execution_count": 218,
   "metadata": {},
   "outputs": [
    {
     "name": "stderr",
     "output_type": "stream",
     "text": [
      "/Users/sabrieyuboglu/Documents/School/SNAP Research/disease-protein-prediction/env/lib/python2.7/site-packages/ipykernel_launcher.py:1: DeprecationWarning: `comb` is deprecated!\n",
      "Importing `comb` from scipy.misc is deprecated in scipy 1.0.0. Use `scipy.special.comb` instead.\n",
      "  \"\"\"Entry point for launching an IPython kernel.\n"
     ]
    },
    {
     "data": {
      "text/plain": [
       "array([  66., 5460.,   55., ...,  120.,    0.,    0.])"
      ]
     },
     "execution_count": 218,
     "metadata": {},
     "output_type": "execute_result"
    }
   ],
   "source": [
    "pairs = comb(degree, 2)\n",
    "pairs"
   ]
  },
  {
   "cell_type": "code",
   "execution_count": 238,
   "metadata": {},
   "outputs": [
    {
     "name": "stderr",
     "output_type": "stream",
     "text": [
      "/Users/sabrieyuboglu/Documents/School/SNAP Research/disease-protein-prediction/env/lib/python2.7/site-packages/ipykernel_launcher.py:1: RuntimeWarning: invalid value encountered in divide\n",
      "  \"\"\"Entry point for launching an IPython kernel.\n",
      "/Users/sabrieyuboglu/Documents/School/SNAP Research/disease-protein-prediction/env/lib/python2.7/site-packages/ipykernel_launcher.py:2: RuntimeWarning: invalid value encountered in divide\n",
      "  \n"
     ]
    }
   ],
   "source": [
    "ci_n_frac_disease = ci_n_diseases / pairs\n",
    "null_n_frac_disease = null_n_diseases / pairs"
   ]
  },
  {
   "cell_type": "code",
   "execution_count": 239,
   "metadata": {},
   "outputs": [
    {
     "data": {
      "text/plain": [
       "Text(0,0.5,'# of proteins')"
      ]
     },
     "execution_count": 239,
     "metadata": {},
     "output_type": "execute_result"
    },
    {
     "data": {
      "image/png": "[encoded data removed]",
      "text/plain": [
       "<Figure size 432x288 with 1 Axes>"
      ]
     },
     "metadata": {},
     "output_type": "display_data"
    }
   ],
   "source": [
    "plt.hist(ci_n_frac_disease, 40, range=(0, 50), alpha=0.8, label=\"common interactors\")\n",
    "plt.hist(null_n_frac_disease, 40, range=(0, 50), alpha=0.7, color='#D3D3D3', label=\"null_model\")\n",
    "plt.yscale('log')\n",
    "plt.legend()\n",
    "plt.xlabel('fraction of pairs that are disease pairs')\n",
    "plt.ylabel('# of proteins')"
   ]
  },
  {
   "cell_type": "code",
   "execution_count": 223,
   "metadata": {},
   "outputs": [
    {
     "data": {
      "text/plain": [
       "[15502, 6523, 30941, 57502, 646, 23213, 4961441, 3590, 42871, 91050]"
      ]
     },
     "execution_count": 223,
     "metadata": {},
     "output_type": "execute_result"
    }
   ],
   "source": [
    "ci_topten = [node_to_protein[node] for node in np.argsort(-1 * ci_n_frac_disease)][:10]\n",
    "ci_topten"
   ]
  },
  {
   "cell_type": "markdown",
   "metadata": {},
   "source": [
    "# Key-Common Interactors\n",
    "Question: Are there some common interactors that bridge many distinct disease protein pairs? In other "
   ]
  },
  {
   "cell_type": "code",
   "execution_count": 242,
   "metadata": {},
   "outputs": [
    {
     "data": {
      "text/plain": [
       "Text(0,0.5,'# of proteins')"
      ]
     },
     "execution_count": 242,
     "metadata": {},
     "output_type": "execute_result"
    },
    {
     "data": {
      "image/png": "[encoded data removed]",
      "text/plain": [
       "<Figure size 432x288 with 1 Axes>"
      ]
     },
     "metadata": {},
     "output_type": "display_data"
    }
   ],
   "source": [
    "plt.hist(ci_n_pairs, 40, range=(0, 100000), alpha=0.8, label=\"common interactors\")\n",
    "plt.hist(null_n_pairs, 40, range=(0, 100000), alpha=0.7, color='#D3D3D3', label=\"null_model\")\n",
    "plt.yscale('log')\n",
    "plt.legend()\n",
    "plt.xlabel('# of distinct protein pairs')\n",
    "plt.ylabel('# of proteins')"
   ]
  },
  {
   "cell_type": "code",
   "execution_count": 253,
   "metadata": {},
   "outputs": [
    {
     "data": {
      "application/vnd.jupyter.widget-view+json": {
       "model_id": "c5f0889c8f6a4f9ca1d04cfbd5fe64c8",
       "version_major": 2,
       "version_minor": 0
      },
      "text/plain": [
       "HBox(children=(IntProgress(value=0, max=2297), HTML(value=u'')))"
      ]
     },
     "metadata": {},
     "output_type": "display_data"
    },
    {
     "ename": "KeyboardInterrupt",
     "evalue": "",
     "output_type": "error",
     "traceback": [
      "\u001b[0;31m-----------------------\u001b[0m",
      "\u001b[0;31mKeyboardInterrupt\u001b[0mTraceback (most recent call last)",
      "\u001b[0;32m<ipython-input-253-388fd6c32f2d>\u001b[0m in \u001b[0;36m<module>\u001b[0;34m()\u001b[0m\n\u001b[0;32m----> 1\u001b[0;31m \u001b[0mpairs\u001b[0m\u001b[0;34m,\u001b[0m \u001b[0mdiseases\u001b[0m  \u001b[0;34m=\u001b[0m \u001b[0mcompute_common_interactors\u001b[0m\u001b[0;34m(\u001b[0m\u001b[0mdiseases_dict\u001b[0m\u001b[0;34m,\u001b[0m \u001b[0mppi_network_adj\u001b[0m\u001b[0;34m,\u001b[0m \u001b[0mnull\u001b[0m\u001b[0;34m=\u001b[0m\u001b[0mFalse\u001b[0m\u001b[0;34m)\u001b[0m\u001b[0;34m\u001b[0m\u001b[0m\n\u001b[0m\u001b[1;32m      2\u001b[0m \u001b[0mn_pairs\u001b[0m \u001b[0;34m=\u001b[0m \u001b[0mnp\u001b[0m\u001b[0;34m.\u001b[0m\u001b[0marray\u001b[0m\u001b[0;34m(\u001b[0m\u001b[0mmap\u001b[0m\u001b[0;34m(\u001b[0m\u001b[0mlen\u001b[0m\u001b[0;34m,\u001b[0m \u001b[0mpairs\u001b[0m\u001b[0;34m)\u001b[0m\u001b[0;34m)\u001b[0m\u001b[0;34m\u001b[0m\u001b[0m\n",
      "\u001b[0;32m<ipython-input-251-8b260d6e6e7c>\u001b[0m in \u001b[0;36mcompute_common_interactors\u001b[0;34m(diseases_dict, adj, null)\u001b[0m\n\u001b[1;32m     13\u001b[0m                 \u001b[0mneighbors_a\u001b[0m \u001b[0;34m=\u001b[0m \u001b[0madj\u001b[0m\u001b[0;34m[\u001b[0m\u001b[0mprotein_a\u001b[0m\u001b[0;34m,\u001b[0m \u001b[0;34m:\u001b[0m\u001b[0;34m]\u001b[0m\u001b[0;34m\u001b[0m\u001b[0m\n\u001b[1;32m     14\u001b[0m                 \u001b[0mneighbors_b\u001b[0m \u001b[0;34m=\u001b[0m \u001b[0madj\u001b[0m\u001b[0;34m[\u001b[0m\u001b[0mprotein_b\u001b[0m\u001b[0;34m,\u001b[0m \u001b[0;34m:\u001b[0m\u001b[0;34m]\u001b[0m\u001b[0;34m\u001b[0m\u001b[0m\n\u001b[0;32m---> 15\u001b[0;31m                 \u001b[0mcis\u001b[0m \u001b[0;34m=\u001b[0m \u001b[0mnp\u001b[0m\u001b[0;34m.\u001b[0m\u001b[0mwhere\u001b[0m\u001b[0;34m(\u001b[0m\u001b[0mnp\u001b[0m\u001b[0;34m.\u001b[0m\u001b[0mmultiply\u001b[0m\u001b[0;34m(\u001b[0m\u001b[0mneighbors_a\u001b[0m\u001b[0;34m,\u001b[0m \u001b[0mneighbors_b\u001b[0m\u001b[0;34m)\u001b[0m \u001b[0;34m==\u001b[0m \u001b[0;36m1\u001b[0m\u001b[0;34m)\u001b[0m\u001b[0;34m[\u001b[0m\u001b[0;36m0\u001b[0m\u001b[0;34m]\u001b[0m\u001b[0;34m\u001b[0m\u001b[0m\n\u001b[0m\u001b[1;32m     16\u001b[0m                 \u001b[0;32mfor\u001b[0m \u001b[0mci\u001b[0m \u001b[0;32min\u001b[0m \u001b[0mcis\u001b[0m\u001b[0;34m:\u001b[0m\u001b[0;34m\u001b[0m\u001b[0m\n\u001b[1;32m     17\u001b[0m                     \u001b[0mci_pairs\u001b[0m\u001b[0;34m[\u001b[0m\u001b[0mci\u001b[0m\u001b[0;34m]\u001b[0m\u001b[0;34m.\u001b[0m\u001b[0madd\u001b[0m\u001b[0;34m(\u001b[0m\u001b[0;34m(\u001b[0m\u001b[0mprotein_a\u001b[0m\u001b[0;34m,\u001b[0m \u001b[0mprotein_b\u001b[0m\u001b[0;34m)\u001b[0m\u001b[0;34m)\u001b[0m\u001b[0;34m\u001b[0m\u001b[0m\n",
      "\u001b[0;31mKeyboardInterrupt\u001b[0m: "
     ]
    }
   ],
   "source": [
    "pairs, diseases  = compute_common_interactors(diseases_dict, ppi_network_adj, null=False)\n",
    "n_pairs = np.array(map(len, pairs))"
   ]
  },
  {
   "cell_type": "code",
   "execution_count": 249,
   "metadata": {},
   "outputs": [],
   "source": [
    "n_pairs = np.array(map(len, pairs))"
   ]
  },
  {
   "cell_type": "code",
   "execution_count": 252,
   "metadata": {},
   "outputs": [
    {
     "data": {
      "text/plain": [
       "Text(0,0.5,'# of proteins')"
      ]
     },
     "execution_count": 252,
     "metadata": {},
     "output_type": "execute_result"
    },
    {
     "data": {
      "image/png": "[encoded data removed]",
      "text/plain": [
       "<Figure size 432x288 with 1 Axes>"
      ]
     },
     "metadata": {},
     "output_type": "display_data"
    }
   ],
   "source": [
    "plt.hist(n_pairs, 40, range=(0, 100000), alpha=0.8, label=\"common interactors\")\n",
    "plt.yscale('log')\n",
    "plt.legend()\n",
    "plt.xlabel('# of distinct protein pairs')\n",
    "plt.ylabel('# of proteins')"
   ]
  },
  {
   "cell_type": "code",
   "execution_count": 254,
   "metadata": {},
   "outputs": [
    {
     "data": {
      "application/vnd.jupyter.widget-view+json": {
       "model_id": "08112bd8dd994a7c90e3c9b43527297f",
       "version_major": 2,
       "version_minor": 0
      },
      "text/plain": [
       "HBox(children=(IntProgress(value=0, max=2297), HTML(value=u'')))"
      ]
     },
     "metadata": {},
     "output_type": "display_data"
    },
    {
     "data": {
      "application/vnd.jupyter.widget-view+json": {
       "model_id": "bfd2a98cf1f84650ae537dc60cd0531d",
       "version_major": 2,
       "version_minor": 0
      },
      "text/plain": [
       "HBox(children=(IntProgress(value=0, max=2297), HTML(value=u'')))"
      ]
     },
     "metadata": {},
     "output_type": "display_data"
    },
    {
     "data": {
      "application/vnd.jupyter.widget-view+json": {
       "model_id": "60255609195f4ce7bad72f3134ab9d70",
       "version_major": 2,
       "version_minor": 0
      },
      "text/plain": [
       "HBox(children=(IntProgress(value=0, max=2297), HTML(value=u'')))"
      ]
     },
     "metadata": {},
     "output_type": "display_data"
    },
    {
     "data": {
      "application/vnd.jupyter.widget-view+json": {
       "model_id": "4a32950e3cab44f886067102a9087bfd",
       "version_major": 2,
       "version_minor": 0
      },
      "text/plain": [
       "HBox(children=(IntProgress(value=0, max=2297), HTML(value=u'')))"
      ]
     },
     "metadata": {},
     "output_type": "display_data"
    },
    {
     "data": {
      "application/vnd.jupyter.widget-view+json": {
       "model_id": "dff962cb584c467988a0f860afbb89ce",
       "version_major": 2,
       "version_minor": 0
      },
      "text/plain": [
       "HBox(children=(IntProgress(value=0, max=2297), HTML(value=u'')))"
      ]
     },
     "metadata": {},
     "output_type": "display_data"
    },
    {
     "data": {
      "application/vnd.jupyter.widget-view+json": {
       "model_id": "79e185880e6a4b6b80540072cc89d014",
       "version_major": 2,
       "version_minor": 0
      },
      "text/plain": [
       "HBox(children=(IntProgress(value=0, max=2297), HTML(value=u'')))"
      ]
     },
     "metadata": {},
     "output_type": "display_data"
    },
    {
     "data": {
      "application/vnd.jupyter.widget-view+json": {
       "model_id": "a5903376b2e84a8bb111ca22820ae243",
       "version_major": 2,
       "version_minor": 0
      },
      "text/plain": [
       "HBox(children=(IntProgress(value=0, max=2297), HTML(value=u'')))"
      ]
     },
     "metadata": {},
     "output_type": "display_data"
    },
    {
     "data": {
      "application/vnd.jupyter.widget-view+json": {
       "model_id": "4e13a90dfbba4b8caae771dd97310880",
       "version_major": 2,
       "version_minor": 0
      },
      "text/plain": [
       "HBox(children=(IntProgress(value=0, max=2297), HTML(value=u'')))"
      ]
     },
     "metadata": {},
     "output_type": "display_data"
    },
    {
     "data": {
      "application/vnd.jupyter.widget-view+json": {
       "model_id": "52eb9036bdfb4146ba9f318d80192779",
       "version_major": 2,
       "version_minor": 0
      },
      "text/plain": [
       "HBox(children=(IntProgress(value=0, max=2297), HTML(value=u'')))"
      ]
     },
     "metadata": {},
     "output_type": "display_data"
    },
    {
     "data": {
      "application/vnd.jupyter.widget-view+json": {
       "model_id": "1b1b19c150e94e65ba97805916fbfbfd",
       "version_major": 2,
       "version_minor": 0
      },
      "text/plain": [
       "HBox(children=(IntProgress(value=0, max=2297), HTML(value=u'')))"
      ]
     },
     "metadata": {},
     "output_type": "display_data"
    },
    {
     "data": {
      "application/vnd.jupyter.widget-view+json": {
       "model_id": "4b16032b3dea481b882085a31e52ceca",
       "version_major": 2,
       "version_minor": 0
      },
      "text/plain": [
       "HBox(children=(IntProgress(value=0, max=2297), HTML(value=u'')))"
      ]
     },
     "metadata": {},
     "output_type": "display_data"
    },
    {
     "data": {
      "application/vnd.jupyter.widget-view+json": {
       "model_id": "d01e8b847499426fad19395704a7636c",
       "version_major": 2,
       "version_minor": 0
      },
      "text/plain": [
       "HBox(children=(IntProgress(value=0, max=2297), HTML(value=u'')))"
      ]
     },
     "metadata": {},
     "output_type": "display_data"
    },
    {
     "data": {
      "application/vnd.jupyter.widget-view+json": {
       "model_id": "dcfde6e010e94a3b87a6601e35567368",
       "version_major": 2,
       "version_minor": 0
      },
      "text/plain": [
       "HBox(children=(IntProgress(value=0, max=2297), HTML(value=u'')))"
      ]
     },
     "metadata": {},
     "output_type": "display_data"
    },
    {
     "data": {
      "application/vnd.jupyter.widget-view+json": {
       "model_id": "be4f0b92b70d4fbabb971b0700efcd33",
       "version_major": 2,
       "version_minor": 0
      },
      "text/plain": [
       "HBox(children=(IntProgress(value=0, max=2297), HTML(value=u'')))"
      ]
     },
     "metadata": {},
     "output_type": "display_data"
    },
    {
     "data": {
      "application/vnd.jupyter.widget-view+json": {
       "model_id": "e76475149af94b0c82c7766bef9d6b61",
       "version_major": 2,
       "version_minor": 0
      },
      "text/plain": [
       "HBox(children=(IntProgress(value=0, max=2297), HTML(value=u'')))"
      ]
     },
     "metadata": {},
     "output_type": "display_data"
    },
    {
     "data": {
      "application/vnd.jupyter.widget-view+json": {
       "model_id": "6524fb55ef52449592ead73894bb13af",
       "version_major": 2,
       "version_minor": 0
      },
      "text/plain": [
       "HBox(children=(IntProgress(value=0, max=2297), HTML(value=u'')))"
      ]
     },
     "metadata": {},
     "output_type": "display_data"
    },
    {
     "data": {
      "application/vnd.jupyter.widget-view+json": {
       "model_id": "69cf9a72909d4aa6ab3fd63f29f30035",
       "version_major": 2,
       "version_minor": 0
      },
      "text/plain": [
       "HBox(children=(IntProgress(value=0, max=2297), HTML(value=u'')))"
      ]
     },
     "metadata": {},
     "output_type": "display_data"
    },
    {
     "data": {
      "application/vnd.jupyter.widget-view+json": {
       "model_id": "c128360fcadf40ae8d66443f584dc4d6",
       "version_major": 2,
       "version_minor": 0
      },
      "text/plain": [
       "HBox(children=(IntProgress(value=0, max=2297), HTML(value=u'')))"
      ]
     },
     "metadata": {},
     "output_type": "display_data"
    },
    {
     "data": {
      "application/vnd.jupyter.widget-view+json": {
       "model_id": "e29eee84010a4d768d146db1ba40e7a5",
       "version_major": 2,
       "version_minor": 0
      },
      "text/plain": [
       "HBox(children=(IntProgress(value=0, max=2297), HTML(value=u'')))"
      ]
     },
     "metadata": {},
     "output_type": "display_data"
    },
    {
     "data": {
      "application/vnd.jupyter.widget-view+json": {
       "model_id": "681a1c714e2a4a1e83d514fb10752f02",
       "version_major": 2,
       "version_minor": 0
      },
      "text/plain": [
       "HBox(children=(IntProgress(value=0, max=2297), HTML(value=u'')))"
      ]
     },
     "metadata": {},
     "output_type": "display_data"
    }
   ],
   "source": [
    "null_pairs = []\n",
    "null_diseases = []\n",
    "for i in range(20): \n",
    "    pairs, diseases  = compute_common_interactors(diseases_dict, ppi_network_adj, null=True)\n",
    "    null_pairs.append(pairs)\n",
    "    null_diseases.append(diseases)"
   ]
  },
  {
   "cell_type": "markdown",
   "metadata": {},
   "source": [
    "# Null Model\n",
    "Compute a robust null model."
   ]
  },
  {
   "cell_type": "code",
   "execution_count": 256,
   "metadata": {},
   "outputs": [],
   "source": [
    "null_n_pairs = [np.array(map(len, pairs)) for pairs in null_pairs]"
   ]
  },
  {
   "cell_type": "code",
   "execution_count": null,
   "metadata": {},
   "outputs": [],
   "source": [
    "with open(\"../../experiments/disgenet/bio-pathways/ci/null_pairs.pkl\",'wb') as f:\n",
    "    pickle.dump(null_pairs, f)"
   ]
  },
  {
   "cell_type": "code",
   "execution_count": 262,
   "metadata": {},
   "outputs": [
    {
     "data": {
      "text/plain": [
       "(21557, 20)"
      ]
     },
     "execution_count": 262,
     "metadata": {},
     "output_type": "execute_result"
    }
   ],
   "source": [
    "np.stack(null_n_pairs, axis=1).shape"
   ]
  },
  {
   "cell_type": "code",
   "execution_count": 263,
   "metadata": {},
   "outputs": [],
   "source": [
    "mean_null_n_pairs = np.mean(np.stack(null_n_pairs, axis=1), axis=1)"
   ]
  },
  {
   "cell_type": "code",
   "execution_count": 264,
   "metadata": {},
   "outputs": [
    {
     "data": {
      "text/plain": [
       "Text(0,0.5,'# of proteins')"
      ]
     },
     "execution_count": 264,
     "metadata": {},
     "output_type": "execute_result"
    },
    {
     "data": {
      "image/png": "[encoded data removed]",
      "text/plain": [
       "<Figure size 432x288 with 1 Axes>"
      ]
     },
     "metadata": {},
     "output_type": "display_data"
    }
   ],
   "source": [
    "plt.hist(ci_n_pairs, 40, range=(0, 100000), alpha=0.8, label=\"common interactors\")\n",
    "plt.hist(mean_null_n_pairs, 40, range=(0, 100000), alpha=0.7, color='#D3D3D3', label=\"null_model\")\n",
    "plt.yscale('log')\n",
    "plt.legend()\n",
    "plt.xlabel('# of distinct protein pairs')\n",
    "plt.ylabel('# of proteins')"
   ]
  },
  {
   "cell_type": "markdown",
   "metadata": {},
   "source": [
    "## Gene Attributes\n",
    "Question: what are the characteristics of the common interactors?"
   ]
  },
  {
   "cell_type": "code",
   "execution_count": 157,
   "metadata": {},
   "outputs": [
    {
     "name": "stdout",
     "output_type": "stream",
     "text": [
      "True\n",
      "../../data/go/go-basic.obo: fmt(1.2) rel(2018-12-10) 47,372 GO Terms\n",
      "  20,376 items READ: ../../data/go/gene2go\n"
     ]
    }
   ],
   "source": [
    "parser = GOParser(\"../../data/go/go-basic.obo\", \"../../data/go/gene2go\")"
   ]
  },
  {
   "cell_type": "code",
   "execution_count": 208,
   "metadata": {},
   "outputs": [
    {
     "data": {
      "text/plain": [
       "{646: {'intracellular part'},\n",
       " 3590: {'signaling receptor activity'},\n",
       " 6523: {'establishment of localization', 'system process'},\n",
       " 15502: set(),\n",
       " 23213: {'intracellular organelle',\n",
       "  'intracellular part',\n",
       "  'membrane-bounded organelle'},\n",
       " 30941: set(),\n",
       " 42871: set(),\n",
       " 57502: {'cellular component organization'},\n",
       " 91050: set(),\n",
       " 4961441: set()}"
      ]
     },
     "execution_count": 208,
     "metadata": {},
     "output_type": "execute_result"
    }
   ],
   "source": [
    "parser.get_annotations(ci_topten)"
   ]
  },
  {
   "cell_type": "code",
   "execution_count": 163,
   "metadata": {},
   "outputs": [
    {
     "data": {
      "text/plain": [
       "{351: {'regulation of biological process'},\n",
       " 1994: {'regulation of biological process',\n",
       "  'regulation of biological quality'},\n",
       " 2885: {'guanyl-nucleotide exchange factor activity', 'protein binding'},\n",
       " 4343: {'regulation of biological process', 'signal transduction'},\n",
       " 4914: {'regulation of biological process',\n",
       "  'regulation of molecular function'},\n",
       " 7157: {'macromolecule localization'},\n",
       " 7316: {'regulation of biological process',\n",
       "  'regulation of molecular function'},\n",
       " 7514: {'cellular localization', 'macromolecule localization'},\n",
       " 8452: {'cellular component organization'},\n",
       " 10482: {'intracellular part'}}"
      ]
     },
     "execution_count": 163,
     "metadata": {},
     "output_type": "execute_result"
    }
   ],
   "source": [
    "parser.get_annotations(null_topten)"
   ]
  },
  {
   "cell_type": "code",
   "execution_count": 228,
   "metadata": {},
   "outputs": [
    {
     "data": {
      "text/plain": [
       "2"
      ]
     },
     "execution_count": 228,
     "metadata": {},
     "output_type": "execute_result"
    }
   ],
   "source": [
    "node = protein_to_node[57502]\n",
    "ppi_networkx.degree(node)"
   ]
  },
  {
   "cell_type": "code",
   "execution_count": null,
   "metadata": {},
   "outputs": [],
   "source": []
  }
 ],
 "metadata": {
  "kernelspec": {
   "display_name": "Python 2",
   "language": "python",
   "name": "python2"
  },
  "language_info": {
   "codemirror_mode": {
    "name": "ipython",
    "version": 2
   },
   "file_extension": ".py",
   "mimetype": "text/x-python",
   "name": "python",
   "nbconvert_exporter": "python",
   "pygments_lexer": "ipython2",
   "version": "2.7.10"
  }
 },
 "nbformat": 4,
 "nbformat_minor": 2
}
