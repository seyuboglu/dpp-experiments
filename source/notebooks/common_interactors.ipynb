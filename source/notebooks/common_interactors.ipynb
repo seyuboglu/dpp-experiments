{
 "cells": [
  {
   "cell_type": "code",
   "execution_count": 104,
   "metadata": {},
   "outputs": [
    {
     "name": "stdout",
     "output_type": "stream",
     "text": [
      "The autoreload extension is already loaded. To reload it, use:\n",
      "  %reload_ext autoreload\n"
     ]
    }
   ],
   "source": [
    "%load_ext autoreload\n",
    "%autoreload 2\n",
    "\n",
    "import sys, os\n",
    "sys.path.append(os.path.abspath(os.path.join('..')))\n",
    "\n",
    "import numpy as np\n",
    "import seaborn as sns\n",
    "import matplotlib.pyplot as plt \n",
    "import torch\n",
    "import numpy as np\n",
    "import networkx as nx\n",
    "from tqdm import tqdm_notebook as tqdm\n",
    "from pysal.inequality.gini import Gini\n",
    "\n",
    "from method.learned_cn_method import CNModule, LCIModule\n",
    "from data import load_network\n",
    "from util import Params, prepare_sns\n",
    "from data import load_diseases, load_network\n",
    "\n",
    "prepare_sns(sns, {})"
   ]
  },
  {
   "cell_type": "code",
   "execution_count": 105,
   "metadata": {},
   "outputs": [
    {
     "name": "stdout",
     "output_type": "stream",
     "text": [
      "Loaded 2297 diseases.\n"
     ]
    }
   ],
   "source": [
    "diseases_dict = load_diseases(\"../../data/associations/disgenet-associations.csv\")\n",
    "m = len(diseases_dict)\n",
    "print(\"Loaded {} diseases.\".format(m))"
   ]
  },
  {
   "cell_type": "code",
   "execution_count": 106,
   "metadata": {},
   "outputs": [],
   "source": [
    "ppi_networkx, ppi_network_adj, protein_to_node = load_network(\"../../data/networks/bio-pathways-network.txt\")\n",
    "n = ppi_network_adj.shape[0]\n",
    "node_to_protein = {node: protein for protein, node in protein_to_node.items()}"
   ]
  },
  {
   "cell_type": "code",
   "execution_count": 107,
   "metadata": {},
   "outputs": [],
   "source": [
    "m = len(diseases_dict.values())\n",
    "diseases = np.zeros((m, n), dtype=int)\n",
    "index_to_disease = []\n",
    "for i, disease in enumerate(diseases_dict.values()):\n",
    "    disease_nodes = disease.to_node_array(protein_to_node)\n",
    "    diseases[i, disease_nodes] = 1\n",
    "    index_to_disease.append(disease)"
   ]
  },
  {
   "cell_type": "markdown",
   "metadata": {},
   "source": [
    "## Common Interactions\n",
    "\n",
    "Question: What fraction of common interactions go through node i?\n",
    "Question: What fraction of diseases "
   ]
  },
  {
   "cell_type": "code",
   "execution_count": 59,
   "metadata": {},
   "outputs": [],
   "source": [
    "def compute_common_interactors(diseases_dict, adj): \n",
    "    ci_pairs = [set() for i in range(n)]\n",
    "    ci_diseases = [set() for i in range(n)]\n",
    "    for disease in tqdm(diseases_dict.values()):\n",
    "        proteins = disease.to_node_array(protein_to_node)\n",
    "        for protein_a in proteins:\n",
    "            for protein_b in proteins:\n",
    "                if protein_a == protein_b:\n",
    "                    continue \n",
    "                neighbors_a = adj[protein_a, :]\n",
    "                neighbors_b = adj[protein_b, :]\n",
    "                cis = np.where(np.multiply(neighbors_a, neighbors_b) == 1)[0]\n",
    "                for ci in cis:\n",
    "                    ci_pairs[ci].add(tuple(sorted((protein_a, protein_b))))\n",
    "                    ci_diseases[ci].add(disease.id)\n",
    "    return ci_pairs, ci_diseases"
   ]
  },
  {
   "cell_type": "code",
   "execution_count": 61,
   "metadata": {},
   "outputs": [
    {
     "data": {
      "application/vnd.jupyter.widget-view+json": {
       "model_id": "ac958ca10ef84f3fb981dab5e989de3c",
       "version_major": 2,
       "version_minor": 0
      },
      "text/plain": [
       "HBox(children=(IntProgress(value=0, max=2297), HTML(value=u'')))"
      ]
     },
     "metadata": {},
     "output_type": "display_data"
    },
    {
     "name": "stdout",
     "output_type": "stream",
     "text": [
      "\n"
     ]
    }
   ],
   "source": [
    "ci_pairs, ci_diseases = compute_common_interactors(diseases_dict, ppi_network_adj)"
   ]
  },
  {
   "cell_type": "code",
   "execution_count": 111,
   "metadata": {},
   "outputs": [],
   "source": [
    "all_ci_pairs = set.union(*ci_pairs)"
   ]
  },
  {
   "cell_type": "code",
   "execution_count": 134,
   "metadata": {},
   "outputs": [],
   "source": [
    "ci_n_pairs = np.array(map(len, ci_pairs))"
   ]
  },
  {
   "cell_type": "code",
   "execution_count": 117,
   "metadata": {},
   "outputs": [
    {
     "name": "stdout",
     "output_type": "stream",
     "text": [
      "857448 proteins\n"
     ]
    }
   ],
   "source": [
    "# How many pairs of proteins are there that share a common interactor? \n",
    "print(\"{} proteins\").format(len(all_ci_pairs))"
   ]
  },
  {
   "cell_type": "code",
   "execution_count": 121,
   "metadata": {},
   "outputs": [
    {
     "data": {
      "text/plain": [
       "Text(0,0.5,'# of common interactors [log]')"
      ]
     },
     "execution_count": 121,
     "metadata": {},
     "output_type": "execute_result"
    },
    {
     "data": {
      "image/png": "[encoded data removed]",
      "text/plain": [
       "<Figure size 432x288 with 1 Axes>"
      ]
     },
     "metadata": {},
     "output_type": "display_data"
    }
   ],
   "source": [
    "plt.hist(ci_n_pairs, 40, range=(0, 100000), alpha=0.8)\n",
    "plt.yscale('log')\n",
    "plt.xlabel('# of distinct protein pairs')\n",
    "plt.ylabel('# of common interactors [log]')"
   ]
  },
  {
   "cell_type": "code",
   "execution_count": 56,
   "metadata": {},
   "outputs": [
    {
     "data": {
      "text/plain": [
       "0.9337597899800635"
      ]
     },
     "execution_count": 56,
     "metadata": {},
     "output_type": "execute_result"
    }
   ],
   "source": [
    "# What is the GINI coefficient of \n",
    "Gini(n_pairs).g"
   ]
  },
  {
   "cell_type": "code",
   "execution_count": 133,
   "metadata": {},
   "outputs": [
    {
     "name": "stdout",
     "output_type": "stream",
     "text": [
      "233 protein pairs on average\n"
     ]
    }
   ],
   "source": [
    "# How many protein pairs do common interactors have on average? \n",
    "print(\"{} protein pairs on average\".format(np.sum(ci_n_pairs) / np.count_nonzero(ci_n_pairs)))"
   ]
  },
  {
   "cell_type": "code",
   "execution_count": 135,
   "metadata": {},
   "outputs": [
    {
     "data": {
      "text/plain": [
       "[4914, 351, 1994, 2885, 7157, 1956, 7316, 3320, 1017, 8452]"
      ]
     },
     "execution_count": 135,
     "metadata": {},
     "output_type": "execute_result"
    }
   ],
   "source": [
    "# Which proteins are common interactors for the most distinct pairs?\n",
    "node_to_protein = {node: protein for protein, node in protein_to_node.items()}\n",
    "[node_to_protein[node] for node in np.argsort(-1 * ci_n_pairs)][:10]"
   ]
  },
  {
   "cell_type": "markdown",
   "metadata": {},
   "source": [
    "### Associated Diseases\n",
    "For each protein i, we compute a) how many diseases i is directly associated with and b) For how many diseases does there exist a pair of associated proteins that share protein i as a common interactor? "
   ]
  },
  {
   "cell_type": "code",
   "execution_count": 114,
   "metadata": {},
   "outputs": [],
   "source": [
    "# How many diseases is protein i directly associated with\n",
    "protein_n_diseases = np.sum(diseases, axis=0)\n",
    "# For how many diseases does there exist a pair of associated proteins that share\n",
    "# protein i as a common interactor? \n",
    "ci_n_diseases = np.array(map(len, ci_diseases))"
   ]
  },
  {
   "cell_type": "code",
   "execution_count": 124,
   "metadata": {},
   "outputs": [
    {
     "data": {
      "text/plain": [
       "Text(0,0.5,'# of proteins')"
      ]
     },
     "execution_count": 124,
     "metadata": {},
     "output_type": "execute_result"
    },
    {
     "data": {
      "image/png": "[encoded data removed]",
      "text/plain": [
       "<Figure size 432x288 with 1 Axes>"
      ]
     },
     "metadata": {},
     "output_type": "display_data"
    }
   ],
   "source": [
    "plt.hist(ci_n_diseases, 40, range=(0, 2279), alpha=0.8, label=\"common interactors\")\n",
    "plt.hist(protein_n_diseases, 40, range=(0, 2279), alpha=0.8, color='#D3D3D3', label=\"direct associations\")\n",
    "plt.yscale('log')\n",
    "plt.legend()\n",
    "plt.xlabel('# of diseases')\n",
    "plt.ylabel('# of proteins')\n"
   ]
  },
  {
   "cell_type": "code",
   "execution_count": 132,
   "metadata": {},
   "outputs": [
    {
     "data": {
      "text/plain": [
       "[4914, 2885, 351, 1994, 3320, 7316, 7157, 1956, 6667, 1017]"
      ]
     },
     "execution_count": 132,
     "metadata": {},
     "output_type": "execute_result"
    }
   ],
   "source": [
    "# Which proteins are common interactors for the most diseases? \n",
    "node_to_protein = {node: protein for protein, node in protein_to_node.items()}\n",
    "[node_to_protein[node] for node in np.argsort(-1 * ci_n_diseases)][:10]"
   ]
  },
  {
   "cell_type": "code",
   "execution_count": null,
   "metadata": {},
   "outputs": [],
   "source": []
  },
  {
   "cell_type": "code",
   "execution_count": 131,
   "metadata": {},
   "outputs": [
    {
     "data": {
      "text/plain": [
       "[4000, 2263, 673, 3845, 2316, 2261, 2260, 5728, 2006, 1280]"
      ]
     },
     "execution_count": 131,
     "metadata": {},
     "output_type": "execute_result"
    }
   ],
   "source": [
    "# Which proteins are associated with the most diseases? \n",
    "node_to_protein = {node: protein for protein, node in protein_to_node.items()}\n",
    "[node_to_protein[node] for node in np.argsort(-1 * protein_n_diseases)][:10]"
   ]
  },
  {
   "cell_type": "code",
   "execution_count": null,
   "metadata": {},
   "outputs": [],
   "source": []
  }
 ],
 "metadata": {
  "kernelspec": {
   "display_name": "Python 2",
   "language": "python",
   "name": "python2"
  },
  "language_info": {
   "codemirror_mode": {
    "name": "ipython",
    "version": 2
   },
   "file_extension": ".py",
   "mimetype": "text/x-python",
   "name": "python",
   "nbconvert_exporter": "python",
   "pygments_lexer": "ipython2",
   "version": "2.7.10"
  }
 },
 "nbformat": 4,
 "nbformat_minor": 2
}
